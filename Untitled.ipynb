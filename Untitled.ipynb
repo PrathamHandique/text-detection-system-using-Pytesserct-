{
 "cells": [
  {
   "cell_type": "code",
   "execution_count": 1,
   "id": "0991a4e4",
   "metadata": {},
   "outputs": [
    {
     "name": "stdout",
     "output_type": "stream",
     "text": [
      "Running on macOS\n",
      "\n",
      "Opening image: imagq/13.png\n",
      "Image opened successfully.\n",
      "Extracting text...\n",
      "Text extracted successfully.\n",
      "\n"
     ]
    }
   ],
   "source": [
    "from  PIL import Image\n",
    "from pytesseract import pytesseract\n",
    "import enum\n",
    "\n",
    "\n",
    "class OS(enum.Enum):\n",
    "    Mac = 0\n",
    "    Windows = 1\n",
    "\n",
    "class Language(enum.Enum):\n",
    "    ENG = \"eng\"\n",
    "    RUS = \"rus\"\n",
    "    ITA = \"ita\"\n",
    "\n",
    "class ImageReader:\n",
    "    def __init__(self, os: OS):\n",
    "        if os == OS.Mac:\n",
    "            print(\"Running on macOS\\n\")\n",
    "        elif os == OS.Windows:\n",
    "            windows_path = r'C:\\Program Files\\Tesseract-OCR\\tesseract.exe'\n",
    "            pytesseract.pytesseract_cmd = windows_path\n",
    "            print('Running on Windows\\n')\n",
    "\n",
    "    def extract_text(self, image: str, lang: str) -> str:\n",
    "        print(\"Opening image:\", image)\n",
    "        img = Image.open(image)\n",
    "        print(\"Image opened successfully.\")\n",
    "        print(\"Extracting text...\")\n",
    "        extracted_text = pytesseract.image_to_string(img, lang=lang)\n",
    "        print(\"Text extracted successfully.\")\n",
    "        return extracted_text\n",
    "        \n",
    "\n",
    "if __name__ == '__main__':\n",
    "    ir = ImageReader(OS.Mac)\n",
    "    text = ir.extract_text('imagq/13.png', lang=\"eng\")\n",
    "    print(text)\n"
   ]
  },
  {
   "cell_type": "code",
   "execution_count": null,
   "id": "66e404d0",
   "metadata": {},
   "outputs": [
    {
     "name": "stdout",
     "output_type": "stream",
     "text": [
      "Collecting opencv-python\n",
      "  Downloading opencv_python-4.9.0.80-cp37-abi3-macosx_11_0_arm64.whl (35.4 MB)\n",
      "\u001b[2K     \u001b[90m━━━━━━━━━━━━━━━━━━━━━━━━━━━━━━━━━━━━━━━━\u001b[0m \u001b[32m35.4/35.4 MB\u001b[0m \u001b[31m3.0 MB/s\u001b[0m eta \u001b[36m0:00:00\u001b[0m00:01\u001b[0m00:01\u001b[0m\n",
      "\u001b[?25hRequirement already satisfied: numpy>=1.21.4 in /Users/prathamhandique/Downloads/anaconda3/lib/python3.10/site-packages (from opencv-python) (1.23.5)\n",
      "Installing collected packages: opencv-python\n"
     ]
    }
   ],
   "source": [
    "pip install opencv-python\n"
   ]
  },
  {
   "cell_type": "code",
   "execution_count": 8,
   "id": "5ce8a4f2",
   "metadata": {},
   "outputs": [],
   "source": [
    "import cv2\n",
    "import pytesseract\n"
   ]
  },
  {
   "cell_type": "code",
   "execution_count": null,
   "id": "076e3e3f",
   "metadata": {},
   "outputs": [],
   "source": [
    "img=cv2.imread()"
   ]
  }
 ],
 "metadata": {
  "kernelspec": {
   "display_name": "Python 3 (ipykernel)",
   "language": "python",
   "name": "python3"
  },
  "language_info": {
   "codemirror_mode": {
    "name": "ipython",
    "version": 3
   },
   "file_extension": ".py",
   "mimetype": "text/x-python",
   "name": "python",
   "nbconvert_exporter": "python",
   "pygments_lexer": "ipython3",
   "version": "3.10.9"
  }
 },
 "nbformat": 4,
 "nbformat_minor": 5
}
